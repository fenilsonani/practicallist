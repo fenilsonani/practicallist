{
 "cells": [
  {
   "cell_type": "code",
   "execution_count": 32,
   "metadata": {
    "collapsed": true,
    "ExecuteTime": {
     "end_time": "2023-07-24T16:23:23.867706Z",
     "start_time": "2023-07-24T16:23:23.526437Z"
    }
   },
   "outputs": [
    {
     "name": "stdout",
     "output_type": "stream",
     "text": [
      "This is my first Python Program\n"
     ]
    }
   ],
   "source": [
    "print('This is my first Python Program')\n"
   ]
  },
  {
   "cell_type": "code",
   "execution_count": 33,
   "outputs": [
    {
     "name": "stdout",
     "output_type": "stream",
     "text": [
      "30\n"
     ]
    }
   ],
   "source": [
    "a=10\n",
    "b=20\n",
    "print(a+b)"
   ],
   "metadata": {
    "collapsed": false,
    "ExecuteTime": {
     "end_time": "2023-07-24T16:23:23.868033Z",
     "start_time": "2023-07-24T16:23:23.528278Z"
    }
   }
  },
  {
   "cell_type": "code",
   "execution_count": 34,
   "outputs": [
    {
     "name": "stdout",
     "output_type": "stream",
     "text": [
      "314.1592653589793\n"
     ]
    }
   ],
   "source": [
    "import math\n",
    "radius=input(\"Input Any Number\")\n",
    "print(math.pi*int(radius)**2)"
   ],
   "metadata": {
    "collapsed": false,
    "ExecuteTime": {
     "end_time": "2023-07-24T16:23:27.386147Z",
     "start_time": "2023-07-24T16:23:23.532458Z"
    }
   }
  },
  {
   "cell_type": "markdown",
   "source": [
    "Write a Python program to perform addition, subtraction, division and\n",
    "multiplication of two numbers."
   ],
   "metadata": {
    "collapsed": false
   }
  },
  {
   "cell_type": "code",
   "execution_count": 35,
   "outputs": [
    {
     "name": "stdout",
     "output_type": "stream",
     "text": [
      "30\n"
     ]
    }
   ],
   "source": [
    "opt=input(\"Enter the operation\")\n",
    "a=int(input(\"Enter the first number\"))\n",
    "b=int(input(\"Enter the second number\"))\n",
    "if opt=='+':\n",
    "    print(a+b)\n",
    "elif opt=='-':\n",
    "    print(a-b)\n",
    "elif opt=='*':\n",
    "    print(a*b)\n",
    "elif opt=='/':\n",
    "    print(a/b)\n",
    "else:\n",
    "    print(\"Invalid Operation\")"
   ],
   "metadata": {
    "collapsed": false,
    "ExecuteTime": {
     "end_time": "2023-07-24T16:23:35.365028Z",
     "start_time": "2023-07-24T16:23:27.322170Z"
    }
   }
  },
  {
   "cell_type": "markdown",
   "source": [
    "x+yz\n",
    "xy+ab2\n",
    "a2 +2ab+b2\n",
    "a2 –2ab+b2\n",
    "(a–b)(a+b)\n",
    "a3 +b3 +3ab(a+b)\n",
    "a3 –b3 –3ab(a–b)\n",
    "(a–b)(a2 +ab+b2)\n",
    "(a+b)(a2 –ab+b2)\n",
    "3xy3+9x2y3+5y3x"
   ],
   "metadata": {
    "collapsed": false
   }
  },
  {
   "cell_type": "code",
   "execution_count": 36,
   "outputs": [
    {
     "name": "stdout",
     "output_type": "stream",
     "text": [
      "610\n",
      "90200\n",
      "900\n",
      "100\n",
      "-300\n",
      "27000\n",
      "-1000\n",
      "-7000\n",
      "9000\n",
      "7840000\n"
     ]
    }
   ],
   "source": [
    "x=int(input(\"Enter the value of x\"))\n",
    "y=int(input(\"Enter the value of y\"))\n",
    "z=int(input(\"Enter the value of z\"))\n",
    "\n",
    "print(x+(y*z))\n",
    "print((x*y)+((x*z)**2))\n",
    "print((x**2)+(2*x*y)+(y**2))\n",
    "print((x**2)-(2*x*y)+(y**2))\n",
    "print((x-y)*(x+y))\n",
    "print((x**3)+(y**3)+(3*x*y*(x+y)))\n",
    "print((x**3)-(y**3)-(3*x*y*(x-y)))\n",
    "print((x-y)*((x**2)+(x*y)+(y**2)))\n",
    "print((x+y)*((x**2)-(x*y)+(y**2)))\n",
    "print((3*x*(y**3))+(9*(x**2)*(y**3))+(5*(y**3)*x))"
   ],
   "metadata": {
    "collapsed": false,
    "ExecuteTime": {
     "end_time": "2023-07-24T16:23:40.126979Z",
     "start_time": "2023-07-24T16:23:35.352723Z"
    }
   }
  },
  {
   "cell_type": "markdown",
   "source": [
    "Write a Python program to find average of any two numbers."
   ],
   "metadata": {
    "collapsed": false
   }
  },
  {
   "cell_type": "code",
   "execution_count": 37,
   "outputs": [
    {
     "name": "stdout",
     "output_type": "stream",
     "text": [
      "20.0\n"
     ]
    }
   ],
   "source": [
    "num1=int(input(\"Enter the first number\"))\n",
    "num2=int(input(\"Enter the second number\"))\n",
    "print((num1+num2)/2)"
   ],
   "metadata": {
    "collapsed": false,
    "ExecuteTime": {
     "end_time": "2023-07-24T16:23:42.954499Z",
     "start_time": "2023-07-24T16:23:40.105561Z"
    }
   }
  },
  {
   "cell_type": "markdown",
   "source": [
    "Write a Python program to swap values of two variables with and without\n",
    "using third variable."
   ],
   "metadata": {
    "collapsed": false
   }
  },
  {
   "cell_type": "code",
   "execution_count": 38,
   "outputs": [
    {
     "name": "stdout",
     "output_type": "stream",
     "text": [
      "100 40\n"
     ]
    }
   ],
   "source": [
    "a=int(input(\"Enter the first number\"))\n",
    "b=int(input(\"Enter the second number\"))\n",
    "a,b=b,a\n",
    "print(a,b)"
   ],
   "metadata": {
    "collapsed": false,
    "ExecuteTime": {
     "end_time": "2023-07-24T16:23:46.434456Z",
     "start_time": "2023-07-24T16:23:42.944353Z"
    }
   }
  },
  {
   "cell_type": "markdown",
   "source": [
    "Write a Python program to display the size of every data type."
   ],
   "metadata": {
    "collapsed": false
   }
  },
  {
   "cell_type": "code",
   "execution_count": 39,
   "outputs": [
    {
     "name": "stdout",
     "output_type": "stream",
     "text": [
      "Size of int is 424\n"
     ]
    }
   ],
   "source": [
    "import sys\n",
    "print(\"Size of int is\",sys.getsizeof(int))"
   ],
   "metadata": {
    "collapsed": false,
    "ExecuteTime": {
     "end_time": "2023-07-24T16:23:46.434692Z",
     "start_time": "2023-07-24T16:23:46.420994Z"
    }
   }
  },
  {
   "cell_type": "markdown",
   "source": [
    "Write a Python program to convert Kilogram into Gram."
   ],
   "metadata": {
    "collapsed": false
   }
  },
  {
   "cell_type": "code",
   "execution_count": 40,
   "outputs": [
    {
     "name": "stdout",
     "output_type": "stream",
     "text": [
      "100000 g\n"
     ]
    }
   ],
   "source": [
    "kg=int(input(\"Enter the value in kg\"))\n",
    "print(kg*1000,\"g\")"
   ],
   "metadata": {
    "collapsed": false,
    "ExecuteTime": {
     "end_time": "2023-07-24T16:23:49.986149Z",
     "start_time": "2023-07-24T16:23:46.424582Z"
    }
   }
  },
  {
   "cell_type": "markdown",
   "source": [
    "Write a Python program to find remainder of division operation where the dividend and divisor are both natural number."
   ],
   "metadata": {
    "collapsed": false
   }
  },
  {
   "cell_type": "code",
   "execution_count": 41,
   "outputs": [
    {
     "name": "stdout",
     "output_type": "stream",
     "text": [
      "0\n"
     ]
    }
   ],
   "source": [
    "dividend=int(input(\"Enter the dividend\"))\n",
    "divisor=int(input(\"Enter the divisor\"))\n",
    "print(dividend%divisor)"
   ],
   "metadata": {
    "collapsed": false,
    "ExecuteTime": {
     "end_time": "2023-07-24T16:23:57.338400Z",
     "start_time": "2023-07-24T16:23:49.944727Z"
    }
   }
  },
  {
   "cell_type": "markdown",
   "source": [
    "Write a Python program to find volume of sphere. Formula V=(4πr^3)/3 where π=3.14 and r is radius of sphere."
   ],
   "metadata": {
    "collapsed": false
   }
  },
  {
   "cell_type": "code",
   "execution_count": 42,
   "outputs": [
    {
     "name": "stdout",
     "output_type": "stream",
     "text": [
      "2952967.241878057\n"
     ]
    }
   ],
   "source": [
    "import math\n",
    "radius=int(input(\"Enter the radius\"))\n",
    "print((4*math.pi*(radius**3))/3)"
   ],
   "metadata": {
    "collapsed": false,
    "ExecuteTime": {
     "end_time": "2023-07-24T16:24:00.044828Z",
     "start_time": "2023-07-24T16:23:57.332342Z"
    }
   }
  },
  {
   "cell_type": "markdown",
   "source": [
    "Write a Python program to check whether the number is odd or even."
   ],
   "metadata": {
    "collapsed": false
   }
  },
  {
   "cell_type": "code",
   "execution_count": 43,
   "outputs": [
    {
     "name": "stdout",
     "output_type": "stream",
     "text": [
      "Even\n"
     ]
    }
   ],
   "source": [
    "num=int(input(\"Enter the number\"))\n",
    "if num%2==0:\n",
    "    print(\"Even\")\n",
    "else:\n",
    "    print(\"Odd\")\n"
   ],
   "metadata": {
    "collapsed": false,
    "ExecuteTime": {
     "end_time": "2023-07-24T16:24:05.113887Z",
     "start_time": "2023-07-24T16:24:00.001986Z"
    }
   }
  },
  {
   "cell_type": "markdown",
   "source": [
    "Write a Python program to find profit or loss based on cost price and sell price\n",
    "of an item. Also print profit or loss percentage. (Profit and loss must be\n",
    "positive number only)"
   ],
   "metadata": {
    "collapsed": false
   }
  },
  {
   "cell_type": "code",
   "execution_count": 44,
   "outputs": [
    {
     "name": "stdout",
     "output_type": "stream",
     "text": [
      "Loss\n",
      "Loss percentage is 90.10011123470522 %\n"
     ]
    }
   ],
   "source": [
    "cp=int(input(\"Enter the cost price\"))\n",
    "sp=int(input(\"Enter the sell price\"))\n",
    "if cp>sp:\n",
    "    print(\"Loss\")\n",
    "    print(\"Loss percentage is\",(cp-sp)/cp*100,\"%\")\n",
    "elif cp<sp:\n",
    "    print(\"Profit\")\n",
    "    print(\"Profit percentage is\",(sp-cp)/cp*100,\"%\")\n",
    "else:\n",
    "    print(\"No Profit No Loss\")"
   ],
   "metadata": {
    "collapsed": false,
    "ExecuteTime": {
     "end_time": "2023-07-24T16:24:13.604827Z",
     "start_time": "2023-07-24T16:24:05.056633Z"
    }
   }
  },
  {
   "cell_type": "markdown",
   "source": [
    "Write a Python program to accept two Integers and check if they are equal."
   ],
   "metadata": {
    "collapsed": false
   }
  },
  {
   "cell_type": "code",
   "execution_count": 45,
   "outputs": [
    {
     "name": "stdout",
     "output_type": "stream",
     "text": [
      "Equal\n"
     ]
    }
   ],
   "source": [
    "a=int(input(\"Enter the first number\"))\n",
    "b=int(input(\"Enter the second number\"))\n",
    "if a==b:\n",
    "    print(\"Equal\")\n",
    "else:\n",
    "    print(\"Not Equal\")\n"
   ],
   "metadata": {
    "collapsed": false,
    "ExecuteTime": {
     "end_time": "2023-07-24T16:24:18.552940Z",
     "start_time": "2023-07-24T16:24:13.594759Z"
    }
   }
  },
  {
   "cell_type": "markdown",
   "source": [
    "Write a Python program to check whether the number is positive, negative or zero."
   ],
   "metadata": {
    "collapsed": false
   }
  },
  {
   "cell_type": "code",
   "execution_count": 46,
   "outputs": [
    {
     "name": "stdout",
     "output_type": "stream",
     "text": [
      "Positive\n"
     ]
    }
   ],
   "source": [
    "num=int(input(\"Enter the number\"))\n",
    "if num>0:\n",
    "    print(\"Positive\")\n",
    "elif num<0:\n",
    "    print(\"Negative\")\n",
    "else:\n",
    "    print(\"Zero\")"
   ],
   "metadata": {
    "collapsed": false,
    "ExecuteTime": {
     "end_time": "2023-07-24T16:24:22.201217Z",
     "start_time": "2023-07-24T16:24:18.545619Z"
    }
   }
  },
  {
   "cell_type": "markdown",
   "source": [
    "Write a Python program to check whether the number is divisible by 5 or not."
   ],
   "metadata": {
    "collapsed": false
   }
  },
  {
   "cell_type": "code",
   "execution_count": 47,
   "outputs": [
    {
     "name": "stdout",
     "output_type": "stream",
     "text": [
      "Not Divisible by 5\n"
     ]
    }
   ],
   "source": [
    "num=int(input(\"Enter the number\"))\n",
    "if num%5==0:\n",
    "    print(\"Divisible by 5\")\n",
    "else:\n",
    "    print(\"Not Divisible by 5\")"
   ],
   "metadata": {
    "collapsed": false,
    "ExecuteTime": {
     "end_time": "2023-07-24T16:24:24.696966Z",
     "start_time": "2023-07-24T16:24:22.171742Z"
    }
   }
  },
  {
   "cell_type": "markdown",
   "source": [
    "Write a Python program to find whether the given year is a leap year or not.\n",
    "(A year is leap if it is divisible by 4 and divisible by 100 or 400.)"
   ],
   "metadata": {
    "collapsed": false
   }
  },
  {
   "cell_type": "code",
   "execution_count": 48,
   "outputs": [
    {
     "name": "stdout",
     "output_type": "stream",
     "text": [
      "Not a Leap Year\n"
     ]
    }
   ],
   "source": [
    "year=int(input(\"Enter the year\"))\n",
    "if year%4==0 and year%100==0 or year%400==0:\n",
    "    print(\"Leap Year\")\n",
    "else:\n",
    "    print(\"Not a Leap Year\")"
   ],
   "metadata": {
    "collapsed": false,
    "ExecuteTime": {
     "end_time": "2023-07-24T16:24:31.222391Z",
     "start_time": "2023-07-24T16:24:24.644173Z"
    }
   }
  },
  {
   "cell_type": "markdown",
   "source": [
    "Write a Python program to input three numbers and display the maximum\n",
    "number also if the three numbers are equal then display numbers are equal."
   ],
   "metadata": {
    "collapsed": false
   }
  },
  {
   "cell_type": "code",
   "execution_count": 49,
   "outputs": [
    {
     "name": "stdout",
     "output_type": "stream",
     "text": [
      "Numbers are equal\n"
     ]
    }
   ],
   "source": [
    "a=int(input(\"Enter the first number\"))\n",
    "b=int(input(\"Enter the second number\"))\n",
    "c=int(input(\"Enter the third number\"))\n",
    "if a==b==c or a==b or b==c or a==c:\n",
    "    print(\"Numbers are equal\")\n",
    "else:\n",
    "    if a>b and a>c:\n",
    "        print(a,\"is maximum\")\n",
    "    elif b>a and b>c:\n",
    "        print(b,\"is maximum\")\n",
    "    else:\n",
    "        print(c,\"is maximum\")"
   ],
   "metadata": {
    "collapsed": false,
    "ExecuteTime": {
     "end_time": "2023-07-24T16:24:38.720851Z",
     "start_time": "2023-07-24T16:24:31.153984Z"
    }
   }
  },
  {
   "cell_type": "markdown",
   "source": [
    "Write a Python program to check whether a number is Prime or not. (a whole\n",
    "number greater than 1 that cannot be exactly divided by any whole number\n",
    "other than itself and 1 (e.g. 2, 3, 5, 7, 11).)"
   ],
   "metadata": {
    "collapsed": false
   }
  },
  {
   "cell_type": "code",
   "execution_count": 50,
   "outputs": [
    {
     "name": "stdout",
     "output_type": "stream",
     "text": [
      "Not Prime\n"
     ]
    }
   ],
   "source": [
    "num=int(input(\"Enter the number\"))\n",
    "if num>1:\n",
    "    for i in range(2,num):\n",
    "        if num%i==0:\n",
    "            print(\"Not Prime\")\n",
    "            break\n",
    "    else:\n",
    "        print(\"Prime\")\n",
    "else:\n",
    "    print(\"Not Prime\")"
   ],
   "metadata": {
    "collapsed": false,
    "ExecuteTime": {
     "end_time": "2023-07-24T16:24:42.453331Z",
     "start_time": "2023-07-24T16:24:38.714293Z"
    }
   }
  },
  {
   "cell_type": "markdown",
   "source": [
    "Write a Python program to find the largest and smallest among three entered\n",
    "numbers and also display whether the identified largest/smallest number is\n",
    "even or odd."
   ],
   "metadata": {
    "collapsed": false
   }
  },
  {
   "cell_type": "code",
   "execution_count": 51,
   "outputs": [
    {
     "name": "stdout",
     "output_type": "stream",
     "text": [
      "675 is largest\n",
      "Odd\n",
      "675 is smallest\n",
      "Odd\n"
     ]
    }
   ],
   "source": [
    "a=int(input(\"Enter the first number\"))\n",
    "b=int(input(\"Enter the second number\"))\n",
    "c=int(input(\"Enter the third number\"))\n",
    "if a>b and a>c:\n",
    "    print(a,\"is largest\")\n",
    "    if a%2==0:\n",
    "        print(\"Even\")\n",
    "    else:\n",
    "        print(\"Odd\")\n",
    "elif b>a and b>c:\n",
    "    print(b,\"is largest\")\n",
    "    if b%2==0:\n",
    "        print(\"Even\")\n",
    "    else:\n",
    "        print(\"Odd\")\n",
    "else:\n",
    "    print(c,\"is largest\")\n",
    "    if c%2==0:\n",
    "        print(\"Even\")\n",
    "    else:\n",
    "        print(\"Odd\")\n",
    "\n",
    "if a<b and a<c:\n",
    "    print(a,\"is smallest\")\n",
    "    if a%2==0:\n",
    "        print(\"Even\")\n",
    "    else:\n",
    "        print(\"Odd\")\n",
    "elif b<a and b<c:\n",
    "    print(b,\"is smallest\")\n",
    "    if b%2==0:\n",
    "        print(\"Even\")\n",
    "    else:\n",
    "        print(\"Odd\")\n",
    "else:\n",
    "    print(c,\"is smallest\")\n",
    "    if c%2==0:\n",
    "        print(\"Even\")\n",
    "    else:\n",
    "        print(\"Odd\")"
   ],
   "metadata": {
    "collapsed": false,
    "ExecuteTime": {
     "end_time": "2023-07-24T16:24:51.183149Z",
     "start_time": "2023-07-24T16:24:42.409313Z"
    }
   }
  },
  {
   "cell_type": "markdown",
   "source": [
    "Write a program to input marks of 5 subjects of a student and display the total\n",
    "marks scored, percentage scored and the class of result.\n",
    "Result criteria:\n",
    "Percentage >= 70% : Distinction\n",
    "Percentage >= 60% and < 70% : First Class\n",
    "Percentage >= 50% and < 60% : Second Class\n",
    "Percentage >= 40% and < 50% : Pass Class\n",
    "Percentage < 40% : Fail"
   ],
   "metadata": {
    "collapsed": false
   }
  },
  {
   "cell_type": "code",
   "execution_count": 52,
   "outputs": [
    {
     "name": "stdout",
     "output_type": "stream",
     "text": [
      "Distinction\n"
     ]
    }
   ],
   "source": [
    "sub1=int(input(\"Enter the marks of subject 1\"))\n",
    "sub2=int(input(\"Enter the marks of subject 2\"))\n",
    "sub3=int(input(\"Enter the marks of subject 3\"))\n",
    "sub4=int(input(\"Enter the marks of subject 4\"))\n",
    "sub5=int(input(\"Enter the marks of subject 5\"))\n",
    "total=sub1+sub2+sub3+sub4+sub5\n",
    "percentage=total/5\n",
    "if percentage>=70:\n",
    "    print(\"Distinction\")\n",
    "elif percentage>=60 and percentage<70:\n",
    "    print(\"First Class\")\n",
    "elif percentage>=50 and percentage<60:\n",
    "    print(\"Second Class\")\n",
    "elif percentage>=40 and percentage<50:\n",
    "    print(\"Pass Class\")\n",
    "else:\n",
    "    print(\"Fail\")"
   ],
   "metadata": {
    "collapsed": false,
    "ExecuteTime": {
     "end_time": "2023-07-24T16:25:00.327030Z",
     "start_time": "2023-07-24T16:24:51.174440Z"
    }
   }
  },
  {
   "cell_type": "markdown",
   "source": [
    "Mr. Roy is living in Canada where temperature is mapped in Fahrenheit.\n",
    "According to weather report current temperature in Canada is 130 °F. Roy’s\n",
    "mother is living in different region of Canada where temperature is mapped in\n",
    "Celsius. Convert current temperature of Canada into Celsius. C = (F - 32) * 5 /\n",
    "9"
   ],
   "metadata": {
    "collapsed": false
   }
  },
  {
   "cell_type": "code",
   "execution_count": 53,
   "outputs": [
    {
     "name": "stdout",
     "output_type": "stream",
     "text": [
      "Temperature in celsius is 36.666666666666664\n"
     ]
    }
   ],
   "source": [
    "fahrenheit=int(input(\"Enter the temperature in fahrenheit\"))\n",
    "celsius=(fahrenheit-32)*5/9\n",
    "print(\"Temperature in celsius is\",celsius)"
   ],
   "metadata": {
    "collapsed": false,
    "ExecuteTime": {
     "end_time": "2023-07-24T16:25:04.760768Z",
     "start_time": "2023-07-24T16:25:00.303602Z"
    }
   }
  },
  {
   "cell_type": "markdown",
   "source": [
    "Write a Python program that takes any character as an input and check\n",
    "whether it is alphabet, digit or special character."
   ],
   "metadata": {
    "collapsed": false
   }
  },
  {
   "cell_type": "code",
   "execution_count": 54,
   "outputs": [
    {
     "name": "stdout",
     "output_type": "stream",
     "text": [
      "Alphabet\n"
     ]
    }
   ],
   "source": [
    "char=input(\"Enter the character\")\n",
    "if char.isalpha():\n",
    "    print(\"Alphabet\")\n",
    "elif char.isdigit():\n",
    "    print(\"Digit\")\n",
    "else:\n",
    "    print(\"Special Character\")"
   ],
   "metadata": {
    "collapsed": false,
    "ExecuteTime": {
     "end_time": "2023-07-24T16:25:14.922921Z",
     "start_time": "2023-07-24T16:25:04.701685Z"
    }
   }
  },
  {
   "cell_type": "markdown",
   "source": [
    "Write a python program to check whether the number is odd or even."
   ],
   "metadata": {
    "collapsed": false
   }
  },
  {
   "cell_type": "code",
   "execution_count": 55,
   "outputs": [
    {
     "name": "stdout",
     "output_type": "stream",
     "text": [
      "Even\n"
     ]
    }
   ],
   "source": [
    "num=int(input(\"Enter the number\"))\n",
    "if num%2==0:\n",
    "    print(\"Even\")\n",
    "else:\n",
    "    print(\"Odd\")"
   ],
   "metadata": {
    "collapsed": false,
    "ExecuteTime": {
     "end_time": "2023-07-24T16:25:18.631122Z",
     "start_time": "2023-07-24T16:25:14.894189Z"
    }
   }
  },
  {
   "cell_type": "markdown",
   "source": [
    "Write a python program to print your name ten times using loop."
   ],
   "metadata": {
    "collapsed": false
   }
  },
  {
   "cell_type": "code",
   "execution_count": 56,
   "outputs": [
    {
     "name": "stdout",
     "output_type": "stream",
     "text": [
      "Fenil Sonani\n",
      "Fenil Sonani\n",
      "Fenil Sonani\n",
      "Fenil Sonani\n",
      "Fenil Sonani\n",
      "Fenil Sonani\n",
      "Fenil Sonani\n",
      "Fenil Sonani\n",
      "Fenil Sonani\n",
      "Fenil Sonani\n"
     ]
    }
   ],
   "source": [
    "for i in range(10):\n",
    "    print(\"Fenil Sonani\")"
   ],
   "metadata": {
    "collapsed": false,
    "ExecuteTime": {
     "end_time": "2023-07-24T16:25:18.631402Z",
     "start_time": "2023-07-24T16:25:18.599911Z"
    }
   }
  },
  {
   "cell_type": "markdown",
   "source": [
    "Write a python program to find the sum of the first N natural numbers. [Hint:\n",
    "1+2+3+4+....+N]"
   ],
   "metadata": {
    "collapsed": false
   }
  },
  {
   "cell_type": "code",
   "execution_count": 57,
   "outputs": [
    {
     "name": "stdout",
     "output_type": "stream",
     "text": [
      "Sum is 230181\n"
     ]
    }
   ],
   "source": [
    "n=int(input(\"Enter the number\"))\n",
    "sum=0\n",
    "for i in range(1,n+1):\n",
    "    sum=sum+i\n",
    "print(\"Sum is\",sum)"
   ],
   "metadata": {
    "collapsed": false,
    "ExecuteTime": {
     "end_time": "2023-07-24T16:25:21.745093Z",
     "start_time": "2023-07-24T16:25:18.604477Z"
    }
   }
  },
  {
   "cell_type": "markdown",
   "source": [
    "Write a python program to find N! (5 factorial=1*2*3*4*5 )"
   ],
   "metadata": {
    "collapsed": false
   }
  },
  {
   "cell_type": "code",
   "execution_count": 59,
   "outputs": [
    {
     "name": "stdout",
     "output_type": "stream",
     "text": [
      "Factorial is 75029780232939823982087845957556460249188253188432649235775854115205657381311574410147163280775893104695567078420747676214664830777652142879896112257319613163307510756791788360874548720004920706874325994747538278478171200270241829620027440732295501993063581689143595086165170926312335745526548606727387918239899047944636511912396317567395288033346055703324640505536919487440377902900496698891485560986530295986338428974770650481279569465333497516067980756469852325318549980924265157556663888688154673977128139610831651405815465456763460658267662882291862126994362018577624642638532524547375027541043373655595471413091393042288763259914942086410647781129672625932257125632395375020583067864824502928306257903521798638388084112755674370403322226369543745103952583666038593843662074143320823104638504879422140000943162985231921929681341428004125258001413789812041014502928183425431916857373423985724003853656785282933775813496304030412106593434197587586166171369373544960919998537696865828922132714723362738280375488443553920330920656802988845133734709164792397857381550942672274734902977822086370846499860497026519901902922247968606631420517533953964518927793205861200324597067213194627719693849135215037505594777850388961263878702266137092181941140206281167035369312213160936178612137270861320646773874974389171575961332221860760463651406047540723993783090692163224310184869923015774342474955703364006464294308197457992380152917144837464942521545258461974050314665365114352978026712321104325122785335773241386487666785456331174478199100634508450943692348120704946675755423517351610852942615734694518853290330677443047486581543768461341601280354880939652970346554718983697448246514414301827217121746955539514683857202314806281368641236968140644411456395116637744121054974860283304978105169363358263005977982293343170508016131683634428403550458881272526730765149387569388273111797367958631381250673805383010413357944342737302505458505453070495287271089999054581109004865517363090998505801603626223783502303555229538978098594489117130412530281218048000000000000000000000000000000000000000000000000000000000000000000000000000000000000000000000000000000000000000000000000000000000000000000000000000000000000000000000000000000000000000000000000000000000000000000000000000000\n"
     ]
    }
   ],
   "source": [
    "n=int(input(\"Enter the number\"))\n",
    "fact=1\n",
    "for i in range(1,n+1):\n",
    "    fact=fact*i\n",
    "print(\"Factorial is\",fact)"
   ],
   "metadata": {
    "collapsed": false,
    "ExecuteTime": {
     "end_time": "2023-07-24T16:25:53.351152Z",
     "start_time": "2023-07-24T16:25:50.048564Z"
    }
   }
  },
  {
   "cell_type": "markdown",
   "source": [
    "Write a python program to find reverse of number."
   ],
   "metadata": {
    "collapsed": false
   }
  },
  {
   "cell_type": "code",
   "execution_count": null,
   "outputs": [],
   "source": [
    "num=int(input(\"Enter the number\"))\n",
    "rev=0\n",
    "while num>0:\n",
    "    rem=num%10\n",
    "    rev=rev*10+rem\n",
    "    num=num//10\n",
    "print(\"Reverse is\",rev)"
   ],
   "metadata": {
    "collapsed": false,
    "ExecuteTime": {
     "start_time": "2023-07-24T16:25:24.674559Z"
    }
   }
  },
  {
   "cell_type": "markdown",
   "source": [
    "Write a python program to print sum of digit in a number. N = 1234 then 1 + 2 +\n",
    "3 + 4 = 10."
   ],
   "metadata": {
    "collapsed": false
   }
  },
  {
   "cell_type": "code",
   "execution_count": null,
   "outputs": [],
   "source": [
    "num=input(\"Enter the number\")\n",
    "sum=0\n",
    "for i in num:\n",
    "    sum=sum+int(i)\n",
    "print(\"Sum is\",sum)"
   ],
   "metadata": {
    "collapsed": false
   }
  },
  {
   "cell_type": "markdown",
   "source": [
    "To find total number of odd digit, even digit, sum of odd digit and sum of even\n",
    "digit from the given number."
   ],
   "metadata": {
    "collapsed": false
   }
  },
  {
   "cell_type": "code",
   "execution_count": null,
   "outputs": [],
   "source": [
    "num=input(\"Enter the number\")\n",
    "odd=0\n",
    "even=0\n",
    "sum_odd=0\n",
    "sum_even=0\n",
    "for i in num:\n",
    "    if int(i)%2==0:\n",
    "        even=even+1\n",
    "        sum_even=sum_even+int(i)\n",
    "    else:\n",
    "        odd=odd+1\n",
    "        sum_odd=sum_odd+int(i)\n",
    "print(\"Total number of odd digit is\",odd)\n",
    "print(\"Total number of even digit is\",even)\n",
    "print(\"Sum of odd digit is\",sum_odd)\n",
    "print(\"Sum of even digit is\",sum_even)"
   ],
   "metadata": {
    "collapsed": false
   }
  },
  {
   "cell_type": "markdown",
   "source": [
    "Write a python program to print following patterns:"
   ],
   "metadata": {
    "collapsed": false
   }
  },
  {
   "cell_type": "markdown",
   "source": [
    "print following pattern:\n",
    "    *\n",
    "   * *\n",
    "  * * *\n",
    " * * * *\n",
    "* * * * *"
   ],
   "metadata": {
    "collapsed": false
   }
  },
  {
   "cell_type": "code",
   "execution_count": null,
   "outputs": [],
   "source": [
    "for i in range(1,6):\n",
    "    for j in range(1,6-i):\n",
    "        print(\" \",end=\"\")\n",
    "    for k in range(1,i+1):\n",
    "        print(\"*\",end=\" \")\n",
    "    print()"
   ],
   "metadata": {
    "collapsed": false
   }
  },
  {
   "cell_type": "markdown",
   "source": [
    "print following pattern:\n",
    "\n",
    "* * * * *\n",
    " * * * *\n",
    "  * * *\n",
    "   * *\n",
    "    *\n"
   ],
   "metadata": {
    "collapsed": false
   }
  },
  {
   "cell_type": "code",
   "execution_count": null,
   "outputs": [],
   "source": [
    "for i in range(1,6):\n",
    "    for j in range(1,i):\n",
    "        print(\" \",end=\"\")\n",
    "    for k in range(1,6-i+1):\n",
    "        print(\"*\",end=\" \")\n",
    "    print()"
   ],
   "metadata": {
    "collapsed": false
   }
  },
  {
   "cell_type": "markdown",
   "source": [
    "print following pattern:\n",
    "\n",
    "    *\n",
    "   * *\n",
    "  * * *\n",
    " * * * *\n",
    "* * * * *\n",
    "* * * *\n",
    "  * * *\n",
    "   * *\n",
    "    *"
   ],
   "metadata": {
    "collapsed": false
   }
  },
  {
   "cell_type": "code",
   "execution_count": null,
   "outputs": [],
   "source": [
    "for i in range(1,6):\n",
    "    for j in range(1,6-i):\n",
    "        print(\" \",end=\"\")\n",
    "    for k in range(1,i+1):\n",
    "        print(\"*\",end=\" \")\n",
    "    print()\n",
    "for i in range(2,6):\n",
    "    for j in range(1,i):\n",
    "        print(\" \",end=\"\")\n",
    "    for k in range(1,6-i+1):\n",
    "        print(\"*\",end=\" \")\n",
    "    print()"
   ],
   "metadata": {
    "collapsed": false
   }
  },
  {
   "cell_type": "markdown",
   "source": [
    "print following pattern:\n",
    "\n",
    "12345\n",
    "4321\n",
    "123\n",
    "21\n",
    "1"
   ],
   "metadata": {
    "collapsed": false
   }
  },
  {
   "cell_type": "code",
   "execution_count": null,
   "outputs": [],
   "source": [
    "switch=0\n",
    "for i in range(5,0,-1):\n",
    "    if switch==0:\n",
    "        for j in range(1,i+1):\n",
    "            print(j,end=\"\")\n",
    "        switch=1\n",
    "    else:\n",
    "        for j in range(i,0,-1):\n",
    "            print(j,end=\"\")\n",
    "        switch=0\n",
    "    print()"
   ],
   "metadata": {
    "collapsed": false
   }
  },
  {
   "cell_type": "markdown",
   "source": [
    "print following pattern:\n",
    "11111\n",
    "0000\n",
    "111\n",
    "00\n",
    "1"
   ],
   "metadata": {
    "collapsed": false
   }
  },
  {
   "cell_type": "code",
   "execution_count": null,
   "outputs": [],
   "source": [
    "for i in range(5,0,-1):\n",
    "    for j in range(1,i+1):\n",
    "        if i%2==0:\n",
    "            print(0,end=\"\")\n",
    "        else:\n",
    "            print(1,end=\"\")\n",
    "    print()\n"
   ],
   "metadata": {
    "collapsed": false
   }
  },
  {
   "cell_type": "markdown",
   "source": [
    "# write a python program to print following pattern:\n",
    "1\n",
    "10\n",
    "101\n",
    "1010\n",
    "10101"
   ],
   "metadata": {
    "collapsed": false
   }
  },
  {
   "cell_type": "code",
   "execution_count": null,
   "outputs": [],
   "source": [
    "for i in range(1,6):\n",
    "    for j in range(1,i+1):\n",
    "        if j%2==0:\n",
    "            print(0,end=\"\")\n",
    "        else:\n",
    "            print(1,end=\"\")\n",
    "    print()"
   ],
   "metadata": {
    "collapsed": false
   }
  },
  {
   "cell_type": "markdown",
   "source": [
    "# Write a python program to print following pattern:\n",
    "5\n",
    "54\n",
    "543\n",
    "5432\n",
    "54321"
   ],
   "metadata": {
    "collapsed": false
   }
  },
  {
   "cell_type": "code",
   "execution_count": null,
   "outputs": [],
   "source": [
    "for i in range(5,0,-1):\n",
    "    for j in range(5,i-1,-1):\n",
    "        print(j,end=\"\")\n",
    "    print()"
   ],
   "metadata": {
    "collapsed": false
   }
  },
  {
   "cell_type": "markdown",
   "source": [
    "# Write a python program to print following pattern:\n",
    "\n",
    "A\n",
    "AB\n",
    "ABC\n",
    "ABCD\n",
    "ABCDE\n"
   ],
   "metadata": {
    "collapsed": false
   }
  },
  {
   "cell_type": "code",
   "execution_count": null,
   "outputs": [],
   "source": [
    "for i in range(1,6):\n",
    "    for j in range(65,65+i):\n",
    "        print(chr(j),end=\"\")\n",
    "    print()"
   ],
   "metadata": {
    "collapsed": false
   }
  },
  {
   "cell_type": "markdown",
   "source": [
    "# Write a python program to print following pattern:\n",
    "EEEEE\n",
    "DDDD\n",
    "CCC\n",
    "BB\n",
    "A"
   ],
   "metadata": {
    "collapsed": false
   }
  },
  {
   "cell_type": "code",
   "execution_count": null,
   "outputs": [],
   "source": [
    "for i in range(5,0,-1):\n",
    "    for j in range(65,65+i):\n",
    "        print(chr(j),end=\"\")\n",
    "    print()"
   ],
   "metadata": {
    "collapsed": false
   }
  },
  {
   "cell_type": "markdown",
   "source": [
    "Write a python program to print sum of even numbers up to given N number.\n",
    "Ex. N = 10 then 2 + 4 + 6 + 8 + 10 = 30"
   ],
   "metadata": {
    "collapsed": false
   }
  },
  {
   "cell_type": "code",
   "execution_count": null,
   "outputs": [],
   "source": [
    "n=int(input(\"Enter the number\"))\n",
    "sum=0\n",
    "for i in range(1,n+1):\n",
    "    if i%2==0:\n",
    "        sum=sum+i\n",
    "print(\"Sum is\",sum)"
   ],
   "metadata": {
    "collapsed": false
   }
  },
  {
   "cell_type": "markdown",
   "source": [
    "Write a python program to print sum of odd numbers up to given N number.\n",
    "Ex. N = 10 then 1 + 3 + 5 + 7 + 9 = 25."
   ],
   "metadata": {
    "collapsed": false
   }
  },
  {
   "cell_type": "code",
   "execution_count": null,
   "outputs": [],
   "source": [
    "n=int(input(\"Enter the number\"))\n",
    "sum=0\n",
    "for i in range(1,n+1):\n",
    "    if i%2!=0:\n",
    "        sum=sum+i\n",
    "print(\"Sum is\",sum)"
   ],
   "metadata": {
    "collapsed": false
   }
  }
 ],
 "metadata": {
  "kernelspec": {
   "display_name": "Python 3",
   "language": "python",
   "name": "python3"
  },
  "language_info": {
   "codemirror_mode": {
    "name": "ipython",
    "version": 2
   },
   "file_extension": ".py",
   "mimetype": "text/x-python",
   "name": "python",
   "nbconvert_exporter": "python",
   "pygments_lexer": "ipython2",
   "version": "2.7.6"
  }
 },
 "nbformat": 4,
 "nbformat_minor": 0
}
